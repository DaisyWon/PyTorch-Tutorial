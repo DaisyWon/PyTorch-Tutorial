{
 "cells": [
  {
   "cell_type": "markdown",
   "metadata": {},
   "source": [
    "# 304 Save and Reload\n",
    "\n",
    "\"\"\"\n",
    "View more, visit my tutorial page: https://mofanpy.com/tutorials/\n",
    "My Youtube Channel: https://www.youtube.com/user/MorvanZhou\n",
    "\n",
    "Dependencies:\n",
    "* torch: 0.1.11\n",
    "* matplotlib"
   ]
  },
  {
   "cell_type": "code",
   "execution_count": 2,
   "metadata": {},
   "outputs": [
    {
     "data": {
      "text/plain": [
       "<torch._C.Generator at 0x7fbca3e95b90>"
      ]
     },
     "execution_count": 2,
     "metadata": {},
     "output_type": "execute_result"
    }
   ],
   "source": [
    "import torch\n",
    "from torch.autograd import Variable\n",
    "import matplotlib.pyplot as plt\n",
    "%matplotlib inline\n",
    "\n",
    "torch.manual_seed(1)    # reproducible"
   ]
  },
  {
   "cell_type": "markdown",
   "metadata": {},
   "source": [
    "### Generate some fake data"
   ]
  },
  {
   "cell_type": "code",
   "execution_count": 3,
   "metadata": {
    "tags": []
   },
   "outputs": [],
   "source": [
    "x = torch.unsqueeze(torch.linspace(-1, 1, 100), dim=1)  # x data (tensor), shape=(100, 1)\n",
    "y = x.pow(2) + 0.2*torch.rand(x.size())  # noisy y data (tensor), shape=(100, 1)\n",
    "x, y = Variable(x, requires_grad=False), Variable(y, requires_grad=False)\n"
   ]
  },
  {
   "cell_type": "code",
   "execution_count": 4,
   "metadata": {
    "tags": []
   },
   "outputs": [],
   "source": [
    "def save():\n",
    "    # save net1\n",
    "    net1 = torch.nn.Sequential(\n",
    "        torch.nn.Linear(1, 10),\n",
    "        torch.nn.ReLU(),\n",
    "        torch.nn.Linear(10, 1)\n",
    "    )\n",
    "    optimizer = torch.optim.SGD(net1.parameters(), lr=0.5)\n",
    "    loss_func = torch.nn.MSELoss()\n",
    "\n",
    "    for t in range(100):\n",
    "        prediction = net1(x)\n",
    "        loss = loss_func(prediction, y)\n",
    "        optimizer.zero_grad()\n",
    "        loss.backward()\n",
    "        optimizer.step()\n",
    "\n",
    "    # plot result\n",
    "    plt.figure(1, figsize=(10, 3))\n",
    "    plt.subplot(131)\n",
    "    plt.title('Net1')\n",
    "    plt.scatter(x.data.numpy(), y.data.numpy())\n",
    "    plt.plot(x.data.numpy(), prediction.data.numpy(), 'r-', lw=5)\n",
    "\n",
    "    # 2 ways to save the net\n",
    "    torch.save(net1, 'net.pkl')  # save entire net\n",
    "    torch.save(net1.state_dict(), 'net_params.pkl')   # save only the parameters"
   ]
  },
  {
   "cell_type": "code",
   "execution_count": 5,
   "metadata": {
    "tags": []
   },
   "outputs": [],
   "source": [
    "def restore_net():\n",
    "    # restore entire net1 to net2\n",
    "    net2 = torch.load('net.pkl')\n",
    "    prediction = net2(x)\n",
    "\n",
    "    # plot result\n",
    "    plt.subplot(132)\n",
    "    plt.title('Net2')\n",
    "    plt.scatter(x.data.numpy(), y.data.numpy())\n",
    "    plt.plot(x.data.numpy(), prediction.data.numpy(), 'r-', lw=5)\n"
   ]
  },
  {
   "cell_type": "code",
   "execution_count": 6,
   "metadata": {
    "tags": []
   },
   "outputs": [],
   "source": [
    "def restore_params():\n",
    "    # restore only the parameters in net1 to net3\n",
    "    net3 = torch.nn.Sequential(\n",
    "        torch.nn.Linear(1, 10),\n",
    "        torch.nn.ReLU(),\n",
    "        torch.nn.Linear(10, 1)\n",
    "    )\n",
    "\n",
    "    # copy net1's parameters into net3\n",
    "    net3.load_state_dict(torch.load('net_params.pkl'))\n",
    "    prediction = net3(x)\n",
    "\n",
    "    # plot result\n",
    "    plt.subplot(133)\n",
    "    plt.title('Net3')\n",
    "    plt.scatter(x.data.numpy(), y.data.numpy())\n",
    "    plt.plot(x.data.numpy(), prediction.data.numpy(), 'r-', lw=5)\n",
    "    plt.show()"
   ]
  },
  {
   "cell_type": "code",
   "execution_count": 7,
   "metadata": {},
   "outputs": [
    {
     "data": {
      "image/png": "[encoded data removed]",
      "text/plain": [
       "<Figure size 1000x300 with 3 Axes>"
      ]
     },
     "metadata": {},
     "output_type": "display_data"
    }
   ],
   "source": [
    "# save net1\n",
    "save()\n",
    "# restore entire net (may slow)\n",
    "restore_net()\n",
    "# restore only the net parameters\n",
    "restore_params()"
   ]
  },
  {
   "cell_type": "code",
   "execution_count": null,
   "metadata": {
    "tags": []
   },
   "outputs": [],
   "source": []
  }
 ],
 "metadata": {
  "kernelspec": {
   "display_name": "Python [conda env:pytorch]",
   "language": "python",
   "name": "conda-env-pytorch-py"
  },
  "language_info": {
   "codemirror_mode": {
    "name": "ipython",
    "version": 3
   },
   "file_extension": ".py",
   "mimetype": "text/x-python",
   "name": "python",
   "nbconvert_exporter": "python",
   "pygments_lexer": "ipython3",
   "version": "3.9.16"
  }
 },
 "nbformat": 4,
 "nbformat_minor": 4
}
